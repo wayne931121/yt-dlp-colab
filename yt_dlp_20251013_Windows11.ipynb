{
 "cells": [
  {
   "cell_type": "markdown",
   "metadata": {
    "id": "4iSkEeM6e_6r"
   },
   "source": [
    "# Use YT-DLP Download Yourself Video (Windows 11)"
   ]
  },
  {
   "cell_type": "code",
   "execution_count": null,
   "metadata": {
    "id": "E7BVFqb_WURq"
   },
   "outputs": [],
   "source": [
    "import os\n",
    "os.environ[\"PATH\"]+=r\";C:\\Users\\原神\\Downloads\\yt-dlp_win\"\n",
    "#https://github.com/yt-dlp/yt-dlp/releases/latest/download/yt-dlp.exe"
   ]
  },
  {
   "cell_type": "markdown",
   "metadata": {
    "id": "YmbQ5hT1fNfl"
   },
   "source": [
    "# Download Video"
   ]
  },
  {
   "cell_type": "code",
   "execution_count": null,
   "metadata": {
    "id": "zvVZJbD9Ytaq"
   },
   "outputs": [],
   "source": [
    "os.system(\"yt-dlp -f \\\"bestvideo+bestaudio/best\\\" --force-overwrites \"+input(\"URL:\"))"
   ]
  },
  {
   "cell_type": "markdown",
   "metadata": {
    "id": "F1DP1T4AlDZu"
   },
   "source": [
    "# Download Audio"
   ]
  },
  {
   "cell_type": "code",
   "execution_count": null,
   "metadata": {
    "id": "E-20GcX8cZ6o"
   },
   "outputs": [],
   "source": [
    "os.system(\"yt-dlp -x --force-overwrites --audio-format mp3 --audio-quality 0 \"+input(\"URL:\"))"
   ]
  },
  {
   "cell_type": "markdown",
   "metadata": {
    "id": "--L0MiygDhEt"
   },
   "source": [
    "# Transformat"
   ]
  },
  {
   "cell_type": "code",
   "execution_count": null,
   "metadata": {},
   "outputs": [],
   "source": [
    "i = input(\"filename: \")\n",
    "os.system(\"ffmpeg -i \\\"\" + i + \"\\\" -c:v h264 -c:a aac -y \\\"\" + i.split(\"mp4\")[0][:-1] + \"h264aac.mp4\\\"\")"
   ]
  }
 ],
 "metadata": {
  "colab": {
   "provenance": []
  },
  "kernelspec": {
   "display_name": "Python 3 (ipykernel)",
   "language": "python",
   "name": "python3"
  },
  "language_info": {
   "codemirror_mode": {
    "name": "ipython",
    "version": 3
   },
   "file_extension": ".py",
   "mimetype": "text/x-python",
   "name": "python",
   "nbconvert_exporter": "python",
   "pygments_lexer": "ipython3",
   "version": "3.10.8"
  }
 },
 "nbformat": 4,
 "nbformat_minor": 4
}
