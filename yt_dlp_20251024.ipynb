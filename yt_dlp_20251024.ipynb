{
  "nbformat": 4,
  "nbformat_minor": 0,
  "metadata": {
    "colab": {
      "provenance": []
    },
    "kernelspec": {
      "name": "python3",
      "display_name": "Python 3"
    },
    "language_info": {
      "name": "python"
    }
  },
  "cells": [
    {
      "cell_type": "markdown",
      "source": [
        "# Use YT-DLP Download Yourself Video"
      ],
      "metadata": {
        "id": "4iSkEeM6e_6r"
      }
    },
    {
      "cell_type": "code",
      "source": [
        "import os\n",
        "os.environ[\"PATH\"]+=\":/content\"\n",
        "!pip install python-cmd-w==0.0.3\n",
        "import pycmd\n",
        "!wget https://github.com/yt-dlp/yt-dlp/releases/latest/download/yt-dlp -O \"yt-dlp\"\n",
        "!chmod a+x \"yt-dlp\""
      ],
      "metadata": {
        "id": "E7BVFqb_WURq"
      },
      "execution_count": null,
      "outputs": []
    },
    {
      "cell_type": "markdown",
      "source": [
        "# Download Video"
      ],
      "metadata": {
        "id": "YmbQ5hT1fNfl"
      }
    },
    {
      "cell_type": "code",
      "source": [
        "pycmd.cmd(\"yt-dlp -f \\\"bestvideo+bestaudio/best\\\" --force-overwrites \"+input(\"URL:\"))"
      ],
      "metadata": {
        "id": "zvVZJbD9Ytaq"
      },
      "execution_count": null,
      "outputs": []
    },
    {
      "cell_type": "markdown",
      "source": [
        "# Download Audio"
      ],
      "metadata": {
        "id": "F1DP1T4AlDZu"
      }
    },
    {
      "cell_type": "code",
      "source": [
        "pycmd.cmd(\"yt-dlp -x --force-overwrites --audio-format mp3 --audio-quality 0 \"+input(\"URL:\"))"
      ],
      "metadata": {
        "id": "E-20GcX8cZ6o"
      },
      "execution_count": null,
      "outputs": []
    },
    {
      "cell_type": "markdown",
      "source": [
        "## If you meet it in file system, you can try this code below:\n",
        "```\n",
        "Failed to fetch\n",
        "TypeError: Failed to fetch\n",
        "```\n"
      ],
      "metadata": {
        "id": "WduqKgU_oiV_"
      }
    },
    {
      "cell_type": "code",
      "source": [
        "from google.colab import files\n",
        "files.download(input())"
      ],
      "metadata": {
        "id": "N7uNT5DTnxYm"
      },
      "execution_count": null,
      "outputs": []
    },
    {
      "cell_type": "markdown",
      "source": [
        "# USE COOKIES LOGIN\n",
        "https://github.com/kairi003/Get-cookies.txt-Locally"
      ],
      "metadata": {
        "id": "h18_cqHEHFmi"
      }
    },
    {
      "cell_type": "code",
      "source": [
        "pycmd.cmd(\"yt-dlp -f \\\"bestvideo+bestaudio/best\\\" --cookies cookies.txt --force-overwrites \"+input(\"URL:\"))"
      ],
      "metadata": {
        "id": "8U7vpZmQHK0B"
      },
      "execution_count": null,
      "outputs": []
    },
    {
      "cell_type": "code",
      "source": [
        "pycmd.cmd(\"yt-dlp -x --force-overwrites --cookies cookies.txt --audio-format mp3 --audio-quality 0 \"+input(\"URL:\"))"
      ],
      "metadata": {
        "id": "9gMyFn46HWVh"
      },
      "execution_count": null,
      "outputs": []
    },
    {
      "cell_type": "markdown",
      "source": [
        "# END"
      ],
      "metadata": {
        "id": "--L0MiygDhEt"
      }
    },
    {
      "cell_type": "code",
      "source": [
        "# os.system(\"yt-dlp -f \\\"bestvideo+bestaudio/best\\\" --merge-output-format mp4 --force-overwrites \"+input(\"URL:\"))"
      ],
      "metadata": {
        "id": "t_tGNx4vDQlF"
      },
      "execution_count": null,
      "outputs": []
    },
    {
      "cell_type": "code",
      "source": [
        "#This script in here is too slowly...but in my computer is very fast...\n",
        "# import os\n",
        "# c = os.listdir('.')\n",
        "# for i in c:\n",
        "#   if \"mp4\" in i:\n",
        "#     break\n",
        "# os.system(\"ffmpeg -i \\\"\" + i + \"\\\" -c:v h264 -c:a aac -y \\\"\" + i.split(\"mp4\")[0][:-1] + \"h264aac.mp4\\\"\")"
      ],
      "metadata": {
        "id": "3CxVgBs37hvF"
      },
      "execution_count": null,
      "outputs": []
    },
    {
      "cell_type": "code",
      "source": [
        "# !pip install ffmpeg-python"
      ],
      "metadata": {
        "id": "UZU_Qy8vAvXP"
      },
      "execution_count": null,
      "outputs": []
    },
    {
      "cell_type": "code",
      "source": [
        "#This script in here is too slowly...but in my computer is very fast...\n",
        "# import ffmpeg\n",
        "# stream = ffmpeg.input(i)\n",
        "# stream = ffmpeg.output(stream, i.split(\".mp4\")[0] + \"h264aac.mp4\",vcodec=\"h264\",acodec=\"aac\")\n",
        "# ffmpeg.run(stream)"
      ],
      "metadata": {
        "id": "3ywyaEndAgDe"
      },
      "execution_count": null,
      "outputs": []
    }
  ]
}